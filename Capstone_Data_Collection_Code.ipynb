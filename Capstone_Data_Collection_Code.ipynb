{
 "cells": [
  {
   "cell_type": "code",
   "execution_count": 24,
   "metadata": {
    "collapsed": true
   },
   "outputs": [],
   "source": [
    "import requests, re\n",
    "from bs4 import BeautifulSoup\n",
    "import pandas as pd"
   ]
  },
  {
   "cell_type": "code",
   "execution_count": 25,
   "metadata": {
    "collapsed": true
   },
   "outputs": [],
   "source": [
    "def read_table(url):\n",
    "   soup = BeautifulSoup(requests.get(url).content)\n",
    "   return soup.find(lambda tag:tag.name == 'table')\n",
    "\n"
   ]
  },
  {
   "cell_type": "code",
   "execution_count": 26,
   "metadata": {
    "collapsed": true
   },
   "outputs": [],
   "source": [
    "def parse_table(url):\n",
    "   table = read_table(url)\n",
    "   return [[td.get_text(strip=True)\n",
    "            if td.find(\"a\") is None \n",
    "            else url + td.find(\"a\")[\"href\"] \n",
    "            for td in tr.find_all(\"td\") if td.get_text(strip=True) is not u\"\"] \n",
    "            for tr in table.find_all(\"tr\")]\n",
    "\n"
   ]
  },
  {
   "cell_type": "code",
   "execution_count": 27,
   "metadata": {
    "collapsed": true
   },
   "outputs": [],
   "source": [
    "def parse_statement(url):\n",
    "    soup = BeautifulSoup(requests.get(url).content)\n",
    "    statements = [statement.text.strip() for statement in soup.findAll('p')]\n",
    "    try:\n",
    "        start = statements.index(u'Last Statement:')\n",
    "    except:\n",
    "        start = 0\n",
    "    statements = [statements[i] for i in range(0, len(statements)) if i > start]\n",
    "    return u''.join(statements)\n",
    "\n"
   ]
  },
  {
   "cell_type": "code",
   "execution_count": 28,
   "metadata": {
    "collapsed": false
   },
   "outputs": [],
   "source": [
    "columns = ['execution', 'offender_information', 'last_statement', 'last_name',\n",
    "           'first_name', 'tdcj_number', 'age', 'date', 'race', 'county']\n",
    "data = parse_table('http://www.tdcj.state.tx.us/death_row/dr_executed_offenders.html')\n",
    "del data[0]\n",
    "data = pd.DataFrame(data, columns = columns)\n",
    "data.ix[:, (1,2)] = data.ix[:, (1,2)].applymap(lambda x: re.sub('dr_executed_offenders.html', '', x))\n",
    "data['statement_text'] = data['last_statement'].map(lambda x: parse_statement(x))\n",
    "data.to_csv('statement_data.csv', index=False, encoding='utf-8')"
   ]
  },
  {
   "cell_type": "code",
   "execution_count": 5,
   "metadata": {
    "collapsed": true
   },
   "outputs": [],
   "source": []
  },
  {
   "cell_type": "code",
   "execution_count": 6,
   "metadata": {
    "collapsed": true
   },
   "outputs": [],
   "source": []
  },
  {
   "cell_type": "code",
   "execution_count": null,
   "metadata": {
    "collapsed": false
   },
   "outputs": [],
   "source": []
  },
  {
   "cell_type": "code",
   "execution_count": null,
   "metadata": {
    "collapsed": false
   },
   "outputs": [],
   "source": []
  },
  {
   "cell_type": "code",
   "execution_count": null,
   "metadata": {
    "collapsed": true
   },
   "outputs": [],
   "source": []
  }
 ],
 "metadata": {
  "anaconda-cloud": {},
  "kernelspec": {
   "display_name": "Python [Root]",
   "language": "python",
   "name": "Python [Root]"
  },
  "language_info": {
   "codemirror_mode": {
    "name": "ipython",
    "version": 2
   },
   "file_extension": ".py",
   "mimetype": "text/x-python",
   "name": "python",
   "nbconvert_exporter": "python",
   "pygments_lexer": "ipython2",
   "version": "2.7.12"
  }
 },
 "nbformat": 4,
 "nbformat_minor": 0
}
