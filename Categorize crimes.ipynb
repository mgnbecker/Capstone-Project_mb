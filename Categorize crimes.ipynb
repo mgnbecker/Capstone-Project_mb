{
 "cells": [
  {
   "cell_type": "code",
   "execution_count": 1,
   "metadata": {
    "collapsed": false
   },
   "outputs": [
    {
     "ename": "IOError",
     "evalue": "[Errno 2] No such file or directory: 'finaldbofalltime.csv'",
     "output_type": "error",
     "traceback": [
      "\u001b[0;31m---------------------------------------------------------------------------\u001b[0m",
      "\u001b[0;31mIOError\u001b[0m                                   Traceback (most recent call last)",
      "\u001b[0;32m<ipython-input-1-ae797d46f598>\u001b[0m in \u001b[0;36m<module>\u001b[0;34m()\u001b[0m\n\u001b[1;32m      1\u001b[0m \u001b[0;32mimport\u001b[0m \u001b[0mcsv\u001b[0m\u001b[0;34m\u001b[0m\u001b[0m\n\u001b[0;32m----> 2\u001b[0;31m \u001b[0mr\u001b[0m \u001b[0;34m=\u001b[0m \u001b[0mcsv\u001b[0m\u001b[0;34m.\u001b[0m\u001b[0mreader\u001b[0m\u001b[0;34m(\u001b[0m\u001b[0mopen\u001b[0m\u001b[0;34m(\u001b[0m\u001b[0;34m'finaldbofalltime.csv'\u001b[0m\u001b[0;34m)\u001b[0m\u001b[0;34m)\u001b[0m\u001b[0;34m\u001b[0m\u001b[0m\n\u001b[0m\u001b[1;32m      3\u001b[0m \u001b[0mlines\u001b[0m \u001b[0;34m=\u001b[0m \u001b[0;34m[\u001b[0m\u001b[0ml\u001b[0m \u001b[0;32mfor\u001b[0m \u001b[0ml\u001b[0m \u001b[0;32min\u001b[0m \u001b[0mr\u001b[0m\u001b[0;34m]\u001b[0m\u001b[0;34m\u001b[0m\u001b[0m\n\u001b[1;32m      4\u001b[0m \u001b[0;34m\u001b[0m\u001b[0m\n\u001b[1;32m      5\u001b[0m \u001b[0;32mfor\u001b[0m \u001b[0mi\u001b[0m \u001b[0;32min\u001b[0m \u001b[0mrange\u001b[0m\u001b[0;34m(\u001b[0m\u001b[0;36m1\u001b[0m\u001b[0;34m,\u001b[0m \u001b[0;36m519\u001b[0m\u001b[0;34m)\u001b[0m\u001b[0;34m:\u001b[0m\u001b[0;34m\u001b[0m\u001b[0m\n",
      "\u001b[0;31mIOError\u001b[0m: [Errno 2] No such file or directory: 'finaldbofalltime.csv'"
     ]
    }
   ],
   "source": [
    "import csv\n",
    "r = csv.reader(open('finaldbofalltime.csv'))\n",
    "lines = [l for l in r]\n",
    "\n",
    "for i in range(1, 519):\n",
    "    \n",
    "        '''#if \"none\" in lines[i][16].lower() or \"n/a\" in lines[i][16].lower():\n",
    "           # lines[i][16]= \"No\"\n",
    "        #else: lines[i][16] = \"Yes\"\n",
    "        \n",
    "        crime=\"\"\n",
    "        if \"shot\" in lines[i][17].lower() or \"murdered\" in lines[i][17].lower() or \"killed\" in lines[i][17].lower() or \"assassinated\" in lines[i][17].lower() or \"killing\" in lines[i][17].lower() or \"murder\" in lines[i][17].lower() or \"death\" in lines[i][17].lower() or \"died\" in lines[i][17].lower() or \"stabbed\" in lines[i][17].lower() or \"die\" in lines[i][17].lower():\n",
    "            crime+=\"murder \"\n",
    "            \n",
    "        if \"robbed\" in lines[i][17].lower() or \"rob\" in lines[i][17].lower() or \"robbery\" in lines[i][17].lower() or \"stole\" in lines[i][17].lower():\n",
    "            crime+=\"robbery \"\n",
    "            \n",
    "        if \"burglary\" in lines[i][17].lower() or \"burgled\" in lines[i][17].lower():\n",
    "            crime+=\"burglary \"\n",
    "            \n",
    "        if \"rape\" in lines[i][17].lower() or \"raped\" in lines[i][17].lower() or \"sex\" in lines[i][17].lower() or \"sexually\" in lines[i][17].lower() or \"molested\" in lines[i][17].lower():\n",
    "            crime+=\"rape \"\n",
    "            \n",
    "        if \"hostage\" in lines[i][17].lower() or \"abducted\" in lines[i][17].lower() or \"abduction\" in lines[i][17].lower() or \"kidnapping\" in lines[i][17].lower() or \"kidnapped\" in lines[i][17].lower():\n",
    "            crime+=\"abduction \"\n",
    "        \n",
    "        if crime==\"\":\n",
    "            crime = \"N/A\"\n",
    "            \n",
    "        lines[i][17] = crime''' \n",
    "        num=0\n",
    "        num1=0\n",
    "        num2=0\n",
    "        num3=0\n",
    "        num4=0\n",
    "        \n",
    "        x = lines[i][21]\n",
    "        if int(x) > 1: \n",
    "            print(i)\n",
    "       \n",
    "        x = lines[i][22]\n",
    "        if int(x) > 1:\n",
    "            print(i)\n",
    "    \n",
    "        \n",
    "        x = lines[i][23]\n",
    "        if int(x) > 1:\n",
    "            print(i)\n",
    "    \n",
    "        \n",
    "        \n",
    "        \n",
    "        \n",
    "            \n",
    "'''writer = csv.writer(open('finaldbofalltime.csv', 'w'))\n",
    "writer.writerows(lines)'''"
   ]
  },
  {
   "cell_type": "code",
   "execution_count": null,
   "metadata": {
    "collapsed": true
   },
   "outputs": [],
   "source": []
  }
 ],
 "metadata": {
  "kernelspec": {
   "display_name": "Python [Root]",
   "language": "python",
   "name": "Python [Root]"
  },
  "language_info": {
   "codemirror_mode": {
    "name": "ipython",
    "version": 2
   },
   "file_extension": ".py",
   "mimetype": "text/x-python",
   "name": "python",
   "nbconvert_exporter": "python",
   "pygments_lexer": "ipython2",
   "version": "2.7.12"
  }
 },
 "nbformat": 4,
 "nbformat_minor": 0
}
