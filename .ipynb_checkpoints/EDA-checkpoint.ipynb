{
 "cells": [
  {
   "cell_type": "markdown",
   "metadata": {},
   "source": [
    "### Requirements\n",
    "\n",
    "Articulate “Specific aim”\n",
    "\n",
    "Outline proposed methods and models\n",
    "\n",
    "Define risks & assumptions\n",
    "\n",
    "Revise initial goals & success criteria, as needed\n",
    "\n",
    "Create local database\n",
    "\n",
    "Describe data cleaning/munging techniques\n",
    "\n",
    "Create a data dictionary\n",
    "\n",
    "Perform & summarize EDA"
   ]
  },
  {
   "cell_type": "code",
   "execution_count": 9,
   "metadata": {
    "collapsed": false
   },
   "outputs": [],
   "source": [
    "texas = pd.read_csv('statement_data.csv')"
   ]
  },
  {
   "cell_type": "code",
   "execution_count": 10,
   "metadata": {
    "collapsed": false
   },
   "outputs": [
    {
     "data": {
      "text/html": [
       "<div>\n",
       "<table border=\"1\" class=\"dataframe\">\n",
       "  <thead>\n",
       "    <tr style=\"text-align: right;\">\n",
       "      <th></th>\n",
       "      <th>execution</th>\n",
       "      <th>offender_information</th>\n",
       "      <th>last_statement</th>\n",
       "      <th>last_name</th>\n",
       "      <th>first_name</th>\n",
       "      <th>tdcj_number</th>\n",
       "      <th>age</th>\n",
       "      <th>date</th>\n",
       "      <th>race</th>\n",
       "      <th>county</th>\n",
       "      <th>statement_text</th>\n",
       "    </tr>\n",
       "  </thead>\n",
       "  <tbody>\n",
       "    <tr>\n",
       "      <th>0</th>\n",
       "      <td>538</td>\n",
       "      <td>http://www.tdcj.state.tx.us/death_row/dr_info/...</td>\n",
       "      <td>http://www.tdcj.state.tx.us/death_row/dr_info/...</td>\n",
       "      <td>Fuller</td>\n",
       "      <td>Barney</td>\n",
       "      <td>999481</td>\n",
       "      <td>58</td>\n",
       "      <td>10/05/2016</td>\n",
       "      <td>White</td>\n",
       "      <td>Houston</td>\n",
       "      <td>I don't have anything to say, you can proceed ...</td>\n",
       "    </tr>\n",
       "    <tr>\n",
       "      <th>1</th>\n",
       "      <td>537</td>\n",
       "      <td>http://www.tdcj.state.tx.us/death_row/dr_info/...</td>\n",
       "      <td>http://www.tdcj.state.tx.us/death_row/dr_info/...</td>\n",
       "      <td>Vasquez</td>\n",
       "      <td>Pablo</td>\n",
       "      <td>999297</td>\n",
       "      <td>38</td>\n",
       "      <td>04/06/2016</td>\n",
       "      <td>Hispanic</td>\n",
       "      <td>Hidalgo</td>\n",
       "      <td>I just want to tell my family thank you, my mo...</td>\n",
       "    </tr>\n",
       "    <tr>\n",
       "      <th>2</th>\n",
       "      <td>536</td>\n",
       "      <td>http://www.tdcj.state.tx.us/death_row/dr_info/...</td>\n",
       "      <td>http://www.tdcj.state.tx.us/death_row/dr_info/...</td>\n",
       "      <td>Ward</td>\n",
       "      <td>Adam</td>\n",
       "      <td>999525</td>\n",
       "      <td>33</td>\n",
       "      <td>03/22/2016</td>\n",
       "      <td>White</td>\n",
       "      <td>Hunt</td>\n",
       "      <td>I would like to thank everyone that has showed...</td>\n",
       "    </tr>\n",
       "    <tr>\n",
       "      <th>3</th>\n",
       "      <td>535</td>\n",
       "      <td>http://www.tdcj.state.tx.us/death_row/dr_info/...</td>\n",
       "      <td>http://www.tdcj.state.tx.us/death_row/dr_info/...</td>\n",
       "      <td>Wesbrook</td>\n",
       "      <td>Coy</td>\n",
       "      <td>999281</td>\n",
       "      <td>58</td>\n",
       "      <td>03/09/2016</td>\n",
       "      <td>White</td>\n",
       "      <td>Harris</td>\n",
       "      <td>Yeah, first off, I want to say that I am sorry...</td>\n",
       "    </tr>\n",
       "    <tr>\n",
       "      <th>4</th>\n",
       "      <td>534</td>\n",
       "      <td>http://www.tdcj.state.tx.us/death_row/dr_info/...</td>\n",
       "      <td>http://www.tdcj.state.tx.us/death_row/dr_info/...</td>\n",
       "      <td>Garcia</td>\n",
       "      <td>Gustavo</td>\n",
       "      <td>999018</td>\n",
       "      <td>43</td>\n",
       "      <td>02/16/2016</td>\n",
       "      <td>Hispanic</td>\n",
       "      <td>Collin</td>\n",
       "      <td>To my family, to my mom, I love you. God bless...</td>\n",
       "    </tr>\n",
       "  </tbody>\n",
       "</table>\n",
       "</div>"
      ],
      "text/plain": [
       "   execution                               offender_information  \\\n",
       "0        538  http://www.tdcj.state.tx.us/death_row/dr_info/...   \n",
       "1        537  http://www.tdcj.state.tx.us/death_row/dr_info/...   \n",
       "2        536  http://www.tdcj.state.tx.us/death_row/dr_info/...   \n",
       "3        535  http://www.tdcj.state.tx.us/death_row/dr_info/...   \n",
       "4        534  http://www.tdcj.state.tx.us/death_row/dr_info/...   \n",
       "\n",
       "                                      last_statement last_name first_name  \\\n",
       "0  http://www.tdcj.state.tx.us/death_row/dr_info/...    Fuller     Barney   \n",
       "1  http://www.tdcj.state.tx.us/death_row/dr_info/...   Vasquez      Pablo   \n",
       "2  http://www.tdcj.state.tx.us/death_row/dr_info/...      Ward       Adam   \n",
       "3  http://www.tdcj.state.tx.us/death_row/dr_info/...  Wesbrook        Coy   \n",
       "4  http://www.tdcj.state.tx.us/death_row/dr_info/...    Garcia    Gustavo   \n",
       "\n",
       "   tdcj_number  age        date      race   county  \\\n",
       "0       999481   58  10/05/2016     White  Houston   \n",
       "1       999297   38  04/06/2016  Hispanic  Hidalgo   \n",
       "2       999525   33  03/22/2016     White     Hunt   \n",
       "3       999281   58  03/09/2016     White   Harris   \n",
       "4       999018   43  02/16/2016  Hispanic   Collin   \n",
       "\n",
       "                                      statement_text  \n",
       "0  I don't have anything to say, you can proceed ...  \n",
       "1  I just want to tell my family thank you, my mo...  \n",
       "2  I would like to thank everyone that has showed...  \n",
       "3  Yeah, first off, I want to say that I am sorry...  \n",
       "4  To my family, to my mom, I love you. God bless...  "
      ]
     },
     "execution_count": 10,
     "metadata": {},
     "output_type": "execute_result"
    }
   ],
   "source": [
    "texas.head()"
   ]
  },
  {
   "cell_type": "code",
   "execution_count": 11,
   "metadata": {
    "collapsed": false
   },
   "outputs": [
    {
     "name": "stdout",
     "output_type": "stream",
     "text": [
      "<class 'pandas.core.frame.DataFrame'>\n",
      "RangeIndex: 538 entries, 0 to 537\n",
      "Data columns (total 11 columns):\n",
      "execution               538 non-null int64\n",
      "offender_information    538 non-null object\n",
      "last_statement          538 non-null object\n",
      "last_name               538 non-null object\n",
      "first_name              538 non-null object\n",
      "tdcj_number             538 non-null int64\n",
      "age                     538 non-null int64\n",
      "date                    538 non-null object\n",
      "race                    538 non-null object\n",
      "county                  538 non-null object\n",
      "statement_text          538 non-null object\n",
      "dtypes: int64(3), object(8)\n",
      "memory usage: 46.3+ KB\n"
     ]
    }
   ],
   "source": [
    "texas.info()"
   ]
  },
  {
   "cell_type": "code",
   "execution_count": 16,
   "metadata": {
    "collapsed": false
   },
   "outputs": [
    {
     "data": {
      "text/plain": [
       "10    536\n",
       "9       2\n",
       "Name: date, dtype: int64"
      ]
     },
     "execution_count": 16,
     "metadata": {},
     "output_type": "execute_result"
    }
   ],
   "source": [
    "#Process the dates\n",
    "texas.date.map(len).value_counts()"
   ]
  },
  {
   "cell_type": "code",
   "execution_count": 20,
   "metadata": {
    "collapsed": false
   },
   "outputs": [
    {
     "data": {
      "text/plain": [
       "9      10/6/2015\n",
       "118    11/6/2008\n",
       "Name: date, dtype: object"
      ]
     },
     "execution_count": 20,
     "metadata": {},
     "output_type": "execute_result"
    }
   ],
   "source": [
    "#The two dates which are nine characters long could be malformed, let's check.\n",
    "texas.date[texas.date.map(len) == 9]\n",
    "#Not malformed, so we can process them in bulk."
   ]
  },
  {
   "cell_type": "code",
   "execution_count": 22,
   "metadata": {
    "collapsed": false
   },
   "outputs": [
    {
     "data": {
      "text/plain": [
       "Index([u'execution', u'offender_information', u'last_statement', u'last_name',\n",
       "       u'first_name', u'tdcj_number', u'age', u'date', u'race', u'county',\n",
       "       u'statement_text'],\n",
       "      dtype='object')"
      ]
     },
     "execution_count": 22,
     "metadata": {},
     "output_type": "execute_result"
    }
   ],
   "source": [
    "texas.columns"
   ]
  },
  {
   "cell_type": "code",
   "execution_count": 25,
   "metadata": {
    "collapsed": false
   },
   "outputs": [],
   "source": [
    "import datetime\n",
    "\n",
    "def _read_date(date):\n",
    "    return datetime.datetime.strptime(date, '%m/%d/%Y')\n",
    "\n",
    "texas.date_execution = texas.date.map(_read_date)"
   ]
  },
  {
   "cell_type": "code",
   "execution_count": 28,
   "metadata": {
    "collapsed": true
   },
   "outputs": [],
   "source": [
    "race_counts = texas['race'].value_counts().reset_index()\n",
    "race_counts.columns = ['race', 'count']\n",
    "pop = pd.DataFrame({'race': ['White', 'Black', 'Hispanic', 'Other'], 'count': [196817552, 37685848, 50477594, 23764544]})"
   ]
  },
  {
   "cell_type": "code",
   "execution_count": 32,
   "metadata": {
    "collapsed": false
   },
   "outputs": [
    {
     "data": {
      "text/html": [
       "<div>\n",
       "<table border=\"1\" class=\"dataframe\">\n",
       "  <thead>\n",
       "    <tr style=\"text-align: right;\">\n",
       "      <th></th>\n",
       "      <th>count</th>\n",
       "      <th>race</th>\n",
       "    </tr>\n",
       "  </thead>\n",
       "  <tbody>\n",
       "    <tr>\n",
       "      <th>0</th>\n",
       "      <td>196817552</td>\n",
       "      <td>White</td>\n",
       "    </tr>\n",
       "    <tr>\n",
       "      <th>1</th>\n",
       "      <td>37685848</td>\n",
       "      <td>Black</td>\n",
       "    </tr>\n",
       "    <tr>\n",
       "      <th>2</th>\n",
       "      <td>50477594</td>\n",
       "      <td>Hispanic</td>\n",
       "    </tr>\n",
       "    <tr>\n",
       "      <th>3</th>\n",
       "      <td>23764544</td>\n",
       "      <td>Other</td>\n",
       "    </tr>\n",
       "  </tbody>\n",
       "</table>\n",
       "</div>"
      ],
      "text/plain": [
       "       count      race\n",
       "0  196817552     White\n",
       "1   37685848     Black\n",
       "2   50477594  Hispanic\n",
       "3   23764544     Other"
      ]
     },
     "execution_count": 32,
     "metadata": {},
     "output_type": "execute_result"
    }
   ],
   "source": [
    "#Population data from 2010 Census\n",
    "pop"
   ]
  },
  {
   "cell_type": "code",
   "execution_count": 31,
   "metadata": {
    "collapsed": false
   },
   "outputs": [
    {
     "data": {
      "text/html": [
       "<div>\n",
       "<table border=\"1\" class=\"dataframe\">\n",
       "  <thead>\n",
       "    <tr style=\"text-align: right;\">\n",
       "      <th></th>\n",
       "      <th>race</th>\n",
       "      <th>count</th>\n",
       "    </tr>\n",
       "  </thead>\n",
       "  <tbody>\n",
       "    <tr>\n",
       "      <th>0</th>\n",
       "      <td>White</td>\n",
       "      <td>239</td>\n",
       "    </tr>\n",
       "    <tr>\n",
       "      <th>1</th>\n",
       "      <td>Black</td>\n",
       "      <td>196</td>\n",
       "    </tr>\n",
       "    <tr>\n",
       "      <th>2</th>\n",
       "      <td>Hispanic</td>\n",
       "      <td>101</td>\n",
       "    </tr>\n",
       "    <tr>\n",
       "      <th>3</th>\n",
       "      <td>Other</td>\n",
       "      <td>2</td>\n",
       "    </tr>\n",
       "  </tbody>\n",
       "</table>\n",
       "</div>"
      ],
      "text/plain": [
       "       race  count\n",
       "0     White    239\n",
       "1     Black    196\n",
       "2  Hispanic    101\n",
       "3     Other      2"
      ]
     },
     "execution_count": 31,
     "metadata": {},
     "output_type": "execute_result"
    }
   ],
   "source": [
    "race_counts"
   ]
  },
  {
   "cell_type": "code",
   "execution_count": 29,
   "metadata": {
    "collapsed": false
   },
   "outputs": [
    {
     "ename": "NameError",
     "evalue": "name 'pie' is not defined",
     "output_type": "error",
     "traceback": [
      "\u001b[0;31m---------------------------------------------------------------------------\u001b[0m",
      "\u001b[0;31mNameError\u001b[0m                                 Traceback (most recent call last)",
      "\u001b[0;32m<ipython-input-29-58e5a471d9da>\u001b[0m in \u001b[0;36m<module>\u001b[0;34m()\u001b[0m\n\u001b[1;32m      1\u001b[0m \u001b[0mfig\u001b[0m\u001b[0;34m,\u001b[0m \u001b[0;34m(\u001b[0m\u001b[0max1\u001b[0m\u001b[0;34m,\u001b[0m \u001b[0max2\u001b[0m\u001b[0;34m)\u001b[0m \u001b[0;34m=\u001b[0m \u001b[0mplt\u001b[0m\u001b[0;34m.\u001b[0m\u001b[0msubplots\u001b[0m\u001b[0;34m(\u001b[0m\u001b[0mncols\u001b[0m\u001b[0;34m=\u001b[0m\u001b[0;36m2\u001b[0m\u001b[0;34m,\u001b[0m \u001b[0mfigsize\u001b[0m\u001b[0;34m=\u001b[0m\u001b[0;34m(\u001b[0m\u001b[0;36m10\u001b[0m\u001b[0;34m,\u001b[0m \u001b[0;36m6\u001b[0m\u001b[0;34m)\u001b[0m\u001b[0;34m)\u001b[0m\u001b[0;34m\u001b[0m\u001b[0m\n\u001b[0;32m----> 2\u001b[0;31m \u001b[0mpie\u001b[0m\u001b[0;34m(\u001b[0m\u001b[0max1\u001b[0m\u001b[0;34m,\u001b[0m \u001b[0mrace_counts\u001b[0m\u001b[0;34m[\u001b[0m\u001b[0;34m'count'\u001b[0m\u001b[0;34m]\u001b[0m\u001b[0;34m,\u001b[0m \u001b[0mlabels\u001b[0m\u001b[0;34m=\u001b[0m\u001b[0mrace_counts\u001b[0m\u001b[0;34m[\u001b[0m\u001b[0;34m'race'\u001b[0m\u001b[0;34m]\u001b[0m\u001b[0;34m)\u001b[0m\u001b[0;34m\u001b[0m\u001b[0m\n\u001b[0m\u001b[1;32m      3\u001b[0m \u001b[0mpie\u001b[0m\u001b[0;34m(\u001b[0m\u001b[0max2\u001b[0m\u001b[0;34m,\u001b[0m \u001b[0mpop\u001b[0m\u001b[0;34m[\u001b[0m\u001b[0;34m'count'\u001b[0m\u001b[0;34m]\u001b[0m\u001b[0;34m,\u001b[0m \u001b[0mlabels\u001b[0m\u001b[0;34m=\u001b[0m\u001b[0mpop\u001b[0m\u001b[0;34m[\u001b[0m\u001b[0;34m'race'\u001b[0m\u001b[0;34m]\u001b[0m\u001b[0;34m)\u001b[0m\u001b[0;34m\u001b[0m\u001b[0m\n\u001b[1;32m      4\u001b[0m \u001b[0max1\u001b[0m\u001b[0;34m.\u001b[0m\u001b[0mset_title\u001b[0m\u001b[0;34m(\u001b[0m\u001b[0;34m'Race distribution among executed people'\u001b[0m\u001b[0;34m)\u001b[0m\u001b[0;34m\u001b[0m\u001b[0m\n\u001b[1;32m      5\u001b[0m \u001b[0max2\u001b[0m\u001b[0;34m.\u001b[0m\u001b[0mset_title\u001b[0m\u001b[0;34m(\u001b[0m\u001b[0;34m'Race distribution among U.S. population (2010)'\u001b[0m\u001b[0;34m)\u001b[0m\u001b[0;34m\u001b[0m\u001b[0m\n",
      "\u001b[0;31mNameError\u001b[0m: name 'pie' is not defined"
     ]
    }
   ],
   "source": [
    "#Change to different visualization\n",
    "fig, (ax1, ax2) = plt.subplots(ncols=2, figsize=(10, 6))\n",
    "pie(ax1, race_counts['count'], labels=race_counts['race'])\n",
    "pie(ax2, pop['count'], labels=pop['race'])\n",
    "ax1.set_title('Race distribution among executed people')\n",
    "ax2.set_title('Race distribution among U.S. population (2010)')\n",
    "fig.subplots_adjust(wspace=0.5)\n",
    "plt.show(fig)"
   ]
  },
  {
   "cell_type": "code",
   "execution_count": 33,
   "metadata": {
    "collapsed": false
   },
   "outputs": [
    {
     "ename": "NameError",
     "evalue": "name 'show' is not defined",
     "output_type": "error",
     "traceback": [
      "\u001b[0;31m---------------------------------------------------------------------------\u001b[0m",
      "\u001b[0;31mNameError\u001b[0m                                 Traceback (most recent call last)",
      "\u001b[0;32m<ipython-input-33-df15e9b75e75>\u001b[0m in \u001b[0;36m<module>\u001b[0;34m()\u001b[0m\n\u001b[0;32m----> 1\u001b[0;31m show(Chart(people[['race', 'age_execution']]).mark_bar().encode(\n\u001b[0m\u001b[1;32m      2\u001b[0m         column=Column('age_execution',\n\u001b[1;32m      3\u001b[0m                       bin=Bin(maxbins=10)),\n\u001b[1;32m      4\u001b[0m         x=X('race',\n\u001b[1;32m      5\u001b[0m             \u001b[0maxis\u001b[0m\u001b[0;34m=\u001b[0m\u001b[0mAxis\u001b[0m\u001b[0;34m(\u001b[0m\u001b[0mlabels\u001b[0m\u001b[0;34m=\u001b[0m\u001b[0mFalse\u001b[0m\u001b[0;34m,\u001b[0m \u001b[0mtickSize\u001b[0m\u001b[0;34m=\u001b[0m\u001b[0;36m0\u001b[0m\u001b[0;34m,\u001b[0m \u001b[0mtitleFontSize\u001b[0m\u001b[0;34m=\u001b[0m\u001b[0;36m0\u001b[0m\u001b[0;34m)\u001b[0m\u001b[0;34m,\u001b[0m\u001b[0;34m\u001b[0m\u001b[0m\n",
      "\u001b[0;31mNameError\u001b[0m: name 'show' is not defined"
     ]
    }
   ],
   "source": [
    "#Visualize the age with respect to race.\n",
    "#Written in python 3\n",
    "show(Chart(people[['race', 'age_execution']]).mark_bar().encode(\n",
    "        column=Column('age_execution',\n",
    "                      bin=Bin(maxbins=10)),\n",
    "        x=X('race',\n",
    "            axis=Axis(labels=False, tickSize=0, titleFontSize=0),\n",
    "            scale=Scale(bandSize=10)),\n",
    "        y='count(*)',\n",
    "        color='race',\n",
    "    ).configure_facet_cell(strokeWidth=0))"
   ]
  },
  {
   "cell_type": "code",
   "execution_count": 34,
   "metadata": {
    "collapsed": true
   },
   "outputs": [],
   "source": [
    "#Show distribution of gender?"
   ]
  },
  {
   "cell_type": "code",
   "execution_count": 36,
   "metadata": {
    "collapsed": false
   },
   "outputs": [],
   "source": [
    "#Compare statement lengths? Count # of sentences in statement."
   ]
  },
  {
   "cell_type": "code",
   "execution_count": 37,
   "metadata": {
    "collapsed": false
   },
   "outputs": [
    {
     "ename": "AttributeError",
     "evalue": "'int' object has no attribute 'year'",
     "output_type": "error",
     "traceback": [
      "\u001b[0;31m---------------------------------------------------------------------------\u001b[0m",
      "\u001b[0;31mAttributeError\u001b[0m                            Traceback (most recent call last)",
      "\u001b[0;32m<ipython-input-37-c06a37a4c6e9>\u001b[0m in \u001b[0;36m<module>\u001b[0;34m()\u001b[0m\n\u001b[1;32m      1\u001b[0m \u001b[0;31m#Number of executions per year\u001b[0m\u001b[0;34m\u001b[0m\u001b[0;34m\u001b[0m\u001b[0m\n\u001b[0;32m----> 2\u001b[0;31m \u001b[0mtexas\u001b[0m\u001b[0;34m[\u001b[0m\u001b[0;34m'execution'\u001b[0m\u001b[0;34m]\u001b[0m \u001b[0;34m=\u001b[0m \u001b[0mtexas\u001b[0m\u001b[0;34m.\u001b[0m\u001b[0mexecution\u001b[0m\u001b[0;34m.\u001b[0m\u001b[0mmap\u001b[0m\u001b[0;34m(\u001b[0m\u001b[0;32mlambda\u001b[0m \u001b[0md\u001b[0m\u001b[0;34m:\u001b[0m \u001b[0md\u001b[0m\u001b[0;34m.\u001b[0m\u001b[0myear\u001b[0m\u001b[0;34m)\u001b[0m\u001b[0;34m\u001b[0m\u001b[0m\n\u001b[0m\u001b[1;32m      3\u001b[0m show(Chart(texas).mark_line().encode(\n\u001b[1;32m      4\u001b[0m         x=X('execution',\n\u001b[1;32m      5\u001b[0m             \u001b[0maxis\u001b[0m\u001b[0;34m=\u001b[0m\u001b[0mAxis\u001b[0m\u001b[0;34m(\u001b[0m\u001b[0mformat\u001b[0m\u001b[0;34m=\u001b[0m\u001b[0;34m'f'\u001b[0m\u001b[0;34m)\u001b[0m\u001b[0;34m,\u001b[0m\u001b[0;34m\u001b[0m\u001b[0m\n",
      "\u001b[0;32m/Users/mgnbecker/anaconda2/lib/python2.7/site-packages/pandas/core/series.pyc\u001b[0m in \u001b[0;36mmap\u001b[0;34m(self, arg, na_action)\u001b[0m\n\u001b[1;32m   2102\u001b[0m             \u001b[0mnew_values\u001b[0m \u001b[0;34m=\u001b[0m \u001b[0malgos\u001b[0m\u001b[0;34m.\u001b[0m\u001b[0mtake_1d\u001b[0m\u001b[0;34m(\u001b[0m\u001b[0marg\u001b[0m\u001b[0;34m.\u001b[0m\u001b[0m_values\u001b[0m\u001b[0;34m,\u001b[0m \u001b[0mindexer\u001b[0m\u001b[0;34m)\u001b[0m\u001b[0;34m\u001b[0m\u001b[0m\n\u001b[1;32m   2103\u001b[0m         \u001b[0;32melse\u001b[0m\u001b[0;34m:\u001b[0m\u001b[0;34m\u001b[0m\u001b[0m\n\u001b[0;32m-> 2104\u001b[0;31m             \u001b[0mnew_values\u001b[0m \u001b[0;34m=\u001b[0m \u001b[0mmap_f\u001b[0m\u001b[0;34m(\u001b[0m\u001b[0mvalues\u001b[0m\u001b[0;34m,\u001b[0m \u001b[0marg\u001b[0m\u001b[0;34m)\u001b[0m\u001b[0;34m\u001b[0m\u001b[0m\n\u001b[0m\u001b[1;32m   2105\u001b[0m \u001b[0;34m\u001b[0m\u001b[0m\n\u001b[1;32m   2106\u001b[0m         return self._constructor(new_values,\n",
      "\u001b[0;32mpandas/src/inference.pyx\u001b[0m in \u001b[0;36mpandas.lib.map_infer (pandas/lib.c:62658)\u001b[0;34m()\u001b[0m\n",
      "\u001b[0;32m<ipython-input-37-c06a37a4c6e9>\u001b[0m in \u001b[0;36m<lambda>\u001b[0;34m(d)\u001b[0m\n\u001b[1;32m      1\u001b[0m \u001b[0;31m#Number of executions per year\u001b[0m\u001b[0;34m\u001b[0m\u001b[0;34m\u001b[0m\u001b[0m\n\u001b[0;32m----> 2\u001b[0;31m \u001b[0mtexas\u001b[0m\u001b[0;34m[\u001b[0m\u001b[0;34m'execution'\u001b[0m\u001b[0;34m]\u001b[0m \u001b[0;34m=\u001b[0m \u001b[0mtexas\u001b[0m\u001b[0;34m.\u001b[0m\u001b[0mexecution\u001b[0m\u001b[0;34m.\u001b[0m\u001b[0mmap\u001b[0m\u001b[0;34m(\u001b[0m\u001b[0;32mlambda\u001b[0m \u001b[0md\u001b[0m\u001b[0;34m:\u001b[0m \u001b[0md\u001b[0m\u001b[0;34m.\u001b[0m\u001b[0myear\u001b[0m\u001b[0;34m)\u001b[0m\u001b[0;34m\u001b[0m\u001b[0m\n\u001b[0m\u001b[1;32m      3\u001b[0m show(Chart(texas).mark_line().encode(\n\u001b[1;32m      4\u001b[0m         x=X('execution',\n\u001b[1;32m      5\u001b[0m             \u001b[0maxis\u001b[0m\u001b[0;34m=\u001b[0m\u001b[0mAxis\u001b[0m\u001b[0;34m(\u001b[0m\u001b[0mformat\u001b[0m\u001b[0;34m=\u001b[0m\u001b[0;34m'f'\u001b[0m\u001b[0;34m)\u001b[0m\u001b[0;34m,\u001b[0m\u001b[0;34m\u001b[0m\u001b[0m\n",
      "\u001b[0;31mAttributeError\u001b[0m: 'int' object has no attribute 'year'"
     ]
    }
   ],
   "source": [
    "#Python 3\n",
    "#Number of executions per year\n",
    "texas['execution'] = texas.execution.map(lambda d: d.year)\n",
    "show(Chart(texas).mark_line().encode(\n",
    "        x=X('execution',\n",
    "            axis=Axis(format='f'),\n",
    "            scale=Scale(zero=False)),\n",
    "        y='count(*)',\n",
    "    ))"
   ]
  },
  {
   "cell_type": "code",
   "execution_count": 38,
   "metadata": {
    "collapsed": false
   },
   "outputs": [
    {
     "ename": "SyntaxError",
     "evalue": "invalid syntax (<ipython-input-38-afcceb280387>, line 9)",
     "output_type": "error",
     "traceback": [
      "\u001b[0;36m  File \u001b[0;32m\"<ipython-input-38-afcceb280387>\"\u001b[0;36m, line \u001b[0;32m9\u001b[0m\n\u001b[0;31m    _, *rows = body.css('table tr')\u001b[0m\n\u001b[0m       ^\u001b[0m\n\u001b[0;31mSyntaxError\u001b[0m\u001b[0;31m:\u001b[0m invalid syntax\n"
     ]
    }
   ],
   "source": [
    "#Crimes map\n",
    "#Python 3\n",
    "import scrapy\n",
    "import requests\n",
    "\n",
    "counties = []\n",
    "body = scrapy.Selector(\n",
    "    text=requests.get('https://en.wikipedia.org/wiki/User:Michael_J/County_table').text\n",
    ")\n",
    "_, *rows = body.css('table tr')\n",
    "for row in rows:\n",
    "    cols = row.css('td ::text').extract()\n",
    "    if cols[1] == 'TX':\n",
    "        lat, long = map(lambda i: i.strip('°').replace('\\u2013', '-'), cols[-2:])\n",
    "        counties.append((cols[3], lat, long))\n",
    "counties = pd.DataFrame(counties, columns=['county', 'lat', 'lon'])\n",
    "#Gets coordinates of each county"
   ]
  },
  {
   "cell_type": "code",
   "execution_count": 43,
   "metadata": {
    "collapsed": true
   },
   "outputs": [],
   "source": [
    "#Know it is possible to add in a Jupyter notebook-- an interactive heat map is drawn as a layer over a Google Map"
   ]
  },
  {
   "cell_type": "code",
   "execution_count": 39,
   "metadata": {
    "collapsed": true
   },
   "outputs": [],
   "source": [
    "#Frequency Analysis-- frequency of certain words in last statement"
   ]
  },
  {
   "cell_type": "code",
   "execution_count": 42,
   "metadata": {
    "collapsed": true
   },
   "outputs": [],
   "source": [
    "#Know there is capability with WordCloud to generate pretty visualization for final presentation"
   ]
  },
  {
   "cell_type": "markdown",
   "metadata": {},
   "source": [
    "### Questions to Investigate:\n",
    "\n",
    "Background/History of Death Penalty for Final presentation\n",
    "\n",
    "Sentiment Analysis?\n",
    "\n",
    "Most Common words of DR Inmates at Execution?\n",
    "\n",
    "Religious/God words mentioned?\n",
    "\n",
    "Most important words for each cluster?.... show colorful examples here\n",
    "\n",
    "Avg. Time on Death Row?\n",
    "\n",
    "Shortest Time? And who?\n",
    "\n",
    "Longest Time on Death Row?\n",
    "\n",
    "Avg. Age at Execution?\n",
    "\n",
    "Youngest Executed? Oldest? --- narrow down to name, then specify offense in particular document to paint a better picture\n",
    "\n",
    "Race Breakdown of Executed Inmates?\n",
    "\n",
    "Family Members most frequently addressed in last statements?\n"
   ]
  },
  {
   "cell_type": "markdown",
   "metadata": {},
   "source": [
    "### How:\n",
    "\n",
    "Modeling scikit learn?\n",
    "\n",
    "KMeans & Silhouette Method?\n"
   ]
  },
  {
   "cell_type": "markdown",
   "metadata": {},
   "source": [
    "### Extras\n",
    "\n",
    "Older project with statements and offenses under inmate name, paints better picture\n",
    "http://projectexas.appspot.com/"
   ]
  },
  {
   "cell_type": "code",
   "execution_count": null,
   "metadata": {
    "collapsed": true
   },
   "outputs": [],
   "source": []
  }
 ],
 "metadata": {
  "anaconda-cloud": {},
  "kernelspec": {
   "display_name": "Python [Root]",
   "language": "python",
   "name": "Python [Root]"
  },
  "language_info": {
   "codemirror_mode": {
    "name": "ipython",
    "version": 2
   },
   "file_extension": ".py",
   "mimetype": "text/x-python",
   "name": "python",
   "nbconvert_exporter": "python",
   "pygments_lexer": "ipython2",
   "version": "2.7.12"
  }
 },
 "nbformat": 4,
 "nbformat_minor": 0
}
