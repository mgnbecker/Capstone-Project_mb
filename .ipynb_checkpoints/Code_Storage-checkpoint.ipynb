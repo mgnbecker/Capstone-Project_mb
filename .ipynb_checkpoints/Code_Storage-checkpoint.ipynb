{
 "cells": [
  {
   "cell_type": "code",
   "execution_count": null,
   "metadata": {
    "collapsed": true
   },
   "outputs": [],
   "source": [
    "import json\n",
    "import urllib\n",
    "import pandas as pd\n",
    "import numpy as np\n",
    "import requests\n",
    "import json\n",
    "import re\n",
    "import matplotlib.pyplot as plt\n",
    "from bs4 import BeautifulSoup\n",
    "%matplotlib inline"
   ]
  },
  {
   "cell_type": "code",
   "execution_count": null,
   "metadata": {
    "collapsed": true
   },
   "outputs": [],
   "source": [
    "# Site to use: https://www.tdcj.state.tx.us/death_row/dr_executed_offenders.html"
   ]
  },
  {
   "cell_type": "code",
   "execution_count": null,
   "metadata": {
    "collapsed": true
   },
   "outputs": [],
   "source": [
    "# Offender site syntax: https://www.tdcj.state.tx.us/death_row/dr_info/firstlastname'.htm"
   ]
  },
  {
   "cell_type": "code",
   "execution_count": null,
   "metadata": {
    "collapsed": true
   },
   "outputs": [],
   "source": [
    "# GET ALL THE OFFENSE SITES TO SCRAP\n",
    "#define site to use\n",
    "url = 'https://www.tdcj.state.tx.us/death_row/dr_executed_offenders.html'\n",
    "#get content of main page\n",
    "resp = requests.get(url)\n",
    "#put this into beautiful soup format\n",
    "soup = BeautifulSoup(resp.text)\n",
    "#get just the content of the spells\n",
    "info = soup.table\n",
    "#pull all the links from the spell table\n",
    "offenses = info.find_all('a')\n",
    "#make a list of all the unique links from spells (they're listed twice because of 'open in new window')\n",
    "offense_links = []\n",
    "for item in offenses:\n",
    "    link = item.get('href')\n",
    "    if link not in offense_links:\n",
    "        offense_links.append('https://www.tdcj.state.tx.us/death_row/'+link)\n"
   ]
  },
  {
   "cell_type": "code",
   "execution_count": null,
   "metadata": {
    "collapsed": true
   },
   "outputs": [],
   "source": [
    "# CREATE LISTS OF RELEVANT FEATURES\n",
    "name = []\n",
    "dob = []\n",
    "age_time_of_offense = []\n",
    "education_level = []\n",
    "date_of_offense = []\n",
    "race = []\n",
    "gender = []\n",
    "native_state = []\n",
    "prior_occupation = []\n",
    "prior_prison_record = []\n",
    "summary_of_incident = []"
   ]
  },
  {
   "cell_type": "code",
   "execution_count": null,
   "metadata": {
    "collapsed": true
   },
   "outputs": [],
   "source": [
    "attributes = [name,dob,age_time_of_offense,education_level,date_of_offense,race,gender,native_state,prior_occupation,prior_prison_record,summary_of_incident]"
   ]
  },
  {
   "cell_type": "code",
   "execution_count": null,
   "metadata": {
    "collapsed": true
   },
   "outputs": [],
   "source": [
    "#Write sudo-code to get just \"Incident\"\n",
    "#\n",
    "\n",
    "import requests, re\n",
    "from bs4 import BeautifulSoup\n",
    "import pandas as pd\n",
    "\n",
    "def read_table(url):\n",
    "   soup = BeautifulSoup(requests.get(url).content)\n",
    "   return soup.find(lambda tag:tag.name == 'table')\n",
    "\n",
    "def parse_table(url):\n",
    "   table = read_table(url)\n",
    "   return [[td.get_text(strip=True)\n",
    "            if td.find(\"a\") is None \n",
    "            else url + td.find(\"a\")[\"href\"] \n",
    "            for td in tr.find_all(\"td\") if td.get_text(strip=True) is not u\"\"] \n",
    "            for tr in table.find_all(\"tr\")]\n",
    "\n",
    "def parse_incident(url):\n",
    "    soup = BeautifulSoup(requests.get(url).content)\n",
    "    incidents = [incidents.text.strip() for statement in soup.findAll('p')]\n",
    "    try:\n",
    "        start = incidents.index(u'Summary of Incident:')\n",
    "    except:\n",
    "        start = 0\n",
    "    incidents = [incidents[i] for i in range(0, len(incidents)) if i > start]\n",
    "    return u''.join(incidents)\n",
    "\n",
    "columns = ['execution', 'offender_information', 'last_statement', 'last_name',\n",
    "           'first_name', 'tdcj_number', 'age', 'date', 'race', 'incidents']\n",
    "data = parse_table('http://www.tdcj.state.tx.us/death_row/dr_executed_offenders.html')\n",
    "del data[0]\n",
    "data = pd.DataFrame(data, columns = columns)\n",
    "data.ix[:, (1,2)] = data.ix[:, (1,2)].applymap(lambda x: re.sub('dr_executed_offenders.html', '', x))\n",
    "data['incident_text'] = data['incidents'].map(lambda x: parse_incident(x))\n",
    "data.to_csv('incidents_data.csv', index=False, encoding='utf-8')"
   ]
  },
  {
   "cell_type": "code",
   "execution_count": null,
   "metadata": {
    "collapsed": true
   },
   "outputs": [],
   "source": [
    "#Need help catering this code to my webpage\n",
    "\n",
    "\n",
    "# ITERATE THROUGH THE PAGES GETTING INFORMATION\n",
    "for link in offense_links:\n",
    "    print link\n",
    "    try:\n",
    "        content = requests.get(link)\n",
    "        offense_info =  BeautifulSoup(content.text)\n",
    "\n",
    "        head = offense_info.find_all('h1')\n",
    "        for item in head:\n",
    "            title.append(item.find('span').find(text=True))\n",
    "\n",
    "        body = offense_info.findAll('p')\n",
    "\n",
    "        #school.append(body[1].find(text=True))\n",
    "\n",
    "        #fine_details = body[2].find_all('strong')\n",
    "        #level.append(fine_details[0].find(text=True))\n",
    "        #casting_time.append(fine_details[1].find(text=True))\n",
    "        #spell_range.append(fine_details[2].find(text=True))\n",
    "        #components.append(fine_details[3].find(text=True).split(', '))\n",
    "        #duration.append(fine_details[4].find(text=True))\n",
    "\n",
    "        #description.append(body[3])\n",
    "\n",
    "        #if 'Page' in body[4].find(text=True):\n",
    "            # source.append(re.findall(r'[^\\n\\s].*[^(\\s{3,})]', body[4].find(text=True))[0])\n",
    "            #sourcenum = 4\n",
    "            #classesnum = 5\n",
    "            #higher_class.append('n/a')\n",
    "        #else:\n",
    "         #   sourcenum = 5\n",
    "            #classesnum = 6\n",
    "            #higher_class.append(body[4])\n",
    "\n",
    "        #source.append(re.findall(r'[^\\n\\s].*[^(\\s{3,})]', body[sourcenum].find(text=True))[0])\n",
    "\n",
    "        #messyclasses = body[classesnum].find_all('a')\n",
    "        #classes = []\n",
    "        #for item in messyclasses:\n",
    "         #   classes.append(re.findall(r'[^/]*?$', item.get('href'))[0])\n",
    "        #spell_classes.append(classes)\n",
    "    #except:\n",
    "        print 'error'"
   ]
  },
  {
   "cell_type": "code",
   "execution_count": null,
   "metadata": {
    "collapsed": true
   },
   "outputs": [],
   "source": [
    "#Haven't run this cell yet.\n",
    "\n",
    "#CREATE DATAFRAME\n",
    "\n",
    "summary_of_incident = []\n",
    "index = ['name','dob','age_time_of_offense','education_level','date_of_offense','race','gender','native_state','prior_occupation','prior_prison_record','summary_of_incident']\n",
    "offense_df = pd.DataFrame(attributes, index=index)\n",
    "\n",
    "offense_df\n",
    "\n",
    "offense_df.rename(index={'offense_range':'range'}, inplace=True)\n",
    "\n",
    "offense_df.to_csv('offense.csv', encoding='utf-8')\n",
    "\n",
    "offenseforjson = pd.read_csv('spells.csv')\n",
    "offenseforjson.set_index('Unnamed: 0', inplace=True)\n",
    "offenseforjson.columns = offenseforjson.loc['title']\n",
    "offenseforjson.drop('title',axis=0,inplace=True)\n",
    "\n",
    "offenseforjson\n",
    "offenseforjson.to_json('offense.json')\n"
   ]
  }
 ],
 "metadata": {
  "anaconda-cloud": {},
  "kernelspec": {
   "display_name": "Python [Root]",
   "language": "python",
   "name": "Python [Root]"
  },
  "language_info": {
   "codemirror_mode": {
    "name": "ipython",
    "version": 2
   },
   "file_extension": ".py",
   "mimetype": "text/x-python",
   "name": "python",
   "nbconvert_exporter": "python",
   "pygments_lexer": "ipython2",
   "version": "2.7.12"
  }
 },
 "nbformat": 4,
 "nbformat_minor": 0
}
