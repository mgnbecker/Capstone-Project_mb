{
 "cells": [
  {
   "cell_type": "code",
   "execution_count": 8,
   "metadata": {
    "collapsed": false
   },
   "outputs": [],
   "source": [
    "import json\n",
    "import urllib\n",
    "import pandas as pd\n",
    "import numpy as np\n",
    "import requests\n",
    "import json\n",
    "import re\n",
    "import matplotlib.pyplot as plt\n",
    "\n",
    "%matplotlib inline"
   ]
  },
  {
   "cell_type": "code",
   "execution_count": 9,
   "metadata": {
    "collapsed": false
   },
   "outputs": [],
   "source": [
    "texas = pd.read_csv('statement_data.csv')"
   ]
  },
  {
   "cell_type": "code",
   "execution_count": 10,
   "metadata": {
    "collapsed": false
   },
   "outputs": [
    {
     "data": {
      "text/html": [
       "<div>\n",
       "<table border=\"1\" class=\"dataframe\">\n",
       "  <thead>\n",
       "    <tr style=\"text-align: right;\">\n",
       "      <th></th>\n",
       "      <th>execution</th>\n",
       "      <th>offender_information</th>\n",
       "      <th>last_statement</th>\n",
       "      <th>last_name</th>\n",
       "      <th>first_name</th>\n",
       "      <th>tdcj_number</th>\n",
       "      <th>age</th>\n",
       "      <th>date</th>\n",
       "      <th>race</th>\n",
       "      <th>county</th>\n",
       "      <th>statement_text</th>\n",
       "    </tr>\n",
       "  </thead>\n",
       "  <tbody>\n",
       "    <tr>\n",
       "      <th>0</th>\n",
       "      <td>538</td>\n",
       "      <td>http://www.tdcj.state.tx.us/death_row/dr_info/...</td>\n",
       "      <td>http://www.tdcj.state.tx.us/death_row/dr_info/...</td>\n",
       "      <td>Fuller</td>\n",
       "      <td>Barney</td>\n",
       "      <td>999481</td>\n",
       "      <td>58</td>\n",
       "      <td>10/05/2016</td>\n",
       "      <td>White</td>\n",
       "      <td>Houston</td>\n",
       "      <td>I don't have anything to say, you can proceed ...</td>\n",
       "    </tr>\n",
       "    <tr>\n",
       "      <th>1</th>\n",
       "      <td>537</td>\n",
       "      <td>http://www.tdcj.state.tx.us/death_row/dr_info/...</td>\n",
       "      <td>http://www.tdcj.state.tx.us/death_row/dr_info/...</td>\n",
       "      <td>Vasquez</td>\n",
       "      <td>Pablo</td>\n",
       "      <td>999297</td>\n",
       "      <td>38</td>\n",
       "      <td>04/06/2016</td>\n",
       "      <td>Hispanic</td>\n",
       "      <td>Hidalgo</td>\n",
       "      <td>I just want to tell my family thank you, my mo...</td>\n",
       "    </tr>\n",
       "    <tr>\n",
       "      <th>2</th>\n",
       "      <td>536</td>\n",
       "      <td>http://www.tdcj.state.tx.us/death_row/dr_info/...</td>\n",
       "      <td>http://www.tdcj.state.tx.us/death_row/dr_info/...</td>\n",
       "      <td>Ward</td>\n",
       "      <td>Adam</td>\n",
       "      <td>999525</td>\n",
       "      <td>33</td>\n",
       "      <td>03/22/2016</td>\n",
       "      <td>White</td>\n",
       "      <td>Hunt</td>\n",
       "      <td>I would like to thank everyone that has showed...</td>\n",
       "    </tr>\n",
       "    <tr>\n",
       "      <th>3</th>\n",
       "      <td>535</td>\n",
       "      <td>http://www.tdcj.state.tx.us/death_row/dr_info/...</td>\n",
       "      <td>http://www.tdcj.state.tx.us/death_row/dr_info/...</td>\n",
       "      <td>Wesbrook</td>\n",
       "      <td>Coy</td>\n",
       "      <td>999281</td>\n",
       "      <td>58</td>\n",
       "      <td>03/09/2016</td>\n",
       "      <td>White</td>\n",
       "      <td>Harris</td>\n",
       "      <td>Yeah, first off, I want to say that I am sorry...</td>\n",
       "    </tr>\n",
       "    <tr>\n",
       "      <th>4</th>\n",
       "      <td>534</td>\n",
       "      <td>http://www.tdcj.state.tx.us/death_row/dr_info/...</td>\n",
       "      <td>http://www.tdcj.state.tx.us/death_row/dr_info/...</td>\n",
       "      <td>Garcia</td>\n",
       "      <td>Gustavo</td>\n",
       "      <td>999018</td>\n",
       "      <td>43</td>\n",
       "      <td>02/16/2016</td>\n",
       "      <td>Hispanic</td>\n",
       "      <td>Collin</td>\n",
       "      <td>To my family, to my mom, I love you. God bless...</td>\n",
       "    </tr>\n",
       "  </tbody>\n",
       "</table>\n",
       "</div>"
      ],
      "text/plain": [
       "   execution                               offender_information  \\\n",
       "0        538  http://www.tdcj.state.tx.us/death_row/dr_info/...   \n",
       "1        537  http://www.tdcj.state.tx.us/death_row/dr_info/...   \n",
       "2        536  http://www.tdcj.state.tx.us/death_row/dr_info/...   \n",
       "3        535  http://www.tdcj.state.tx.us/death_row/dr_info/...   \n",
       "4        534  http://www.tdcj.state.tx.us/death_row/dr_info/...   \n",
       "\n",
       "                                      last_statement last_name first_name  \\\n",
       "0  http://www.tdcj.state.tx.us/death_row/dr_info/...    Fuller     Barney   \n",
       "1  http://www.tdcj.state.tx.us/death_row/dr_info/...   Vasquez      Pablo   \n",
       "2  http://www.tdcj.state.tx.us/death_row/dr_info/...      Ward       Adam   \n",
       "3  http://www.tdcj.state.tx.us/death_row/dr_info/...  Wesbrook        Coy   \n",
       "4  http://www.tdcj.state.tx.us/death_row/dr_info/...    Garcia    Gustavo   \n",
       "\n",
       "   tdcj_number  age        date      race   county  \\\n",
       "0       999481   58  10/05/2016     White  Houston   \n",
       "1       999297   38  04/06/2016  Hispanic  Hidalgo   \n",
       "2       999525   33  03/22/2016     White     Hunt   \n",
       "3       999281   58  03/09/2016     White   Harris   \n",
       "4       999018   43  02/16/2016  Hispanic   Collin   \n",
       "\n",
       "                                      statement_text  \n",
       "0  I don't have anything to say, you can proceed ...  \n",
       "1  I just want to tell my family thank you, my mo...  \n",
       "2  I would like to thank everyone that has showed...  \n",
       "3  Yeah, first off, I want to say that I am sorry...  \n",
       "4  To my family, to my mom, I love you. God bless...  "
      ]
     },
     "execution_count": 10,
     "metadata": {},
     "output_type": "execute_result"
    }
   ],
   "source": [
    "texas.head()"
   ]
  },
  {
   "cell_type": "code",
   "execution_count": 11,
   "metadata": {
    "collapsed": false
   },
   "outputs": [],
   "source": [
    "import numpy as np\n",
    "import pandas as pd\n",
    "import matplotlib.pyplot as plt\n",
    "from altair import Chart, X, Y, Axis, Scale, Color, Bin, SortField, Column, Formula\n",
    "\n",
    "# Two convenience functions to work with Altair and Matplotlib\n",
    "def show(*charts, width=700, height=300):\n",
    "    for chart in charts:\n",
    "        chart.configure_cell(width=width, height=height).display()\n",
    "        \n",
    "def pie(ax, *args, **kwargs):\n",
    "    patches, _, _ = ax.pie(\n",
    "        *args,\n",
    "        colors=['#BEE9E8', '#62B6CB', '#5FA8D3', '#DCEDEC'],\n",
    "        autopct='%1.1f%%',\n",
    "        **kwargs\n",
    "    )\n",
    "    for p in patches:\n",
    "        p.set_linewidth(0.6)\n",
    "    ax.axis('equal')"
   ]
  },
  {
   "cell_type": "code",
   "execution_count": 29,
   "metadata": {
    "collapsed": false
   },
   "outputs": [],
   "source": [
    "import scrapy\n",
    "\n",
    "class TexasDeathSpider(scrapy.Spider):\n",
    "    name = 'texas_death'\n",
    "    allowed_domains = ['www.tdcj.state.tx.us']\n",
    "    start_urls = (\n",
    "        'http://www.tdcj.state.tx.us/death_row/dr_executed_offenders.html',\n",
    "    )\n",
    "\n",
    "    def parse(self, response):\n",
    "        _, *rows = response.css('table tr')\n",
    "        fields = ['execution', 'last_name', 'first_name', 'tdcj_number',\n",
    "                  'age_execution', 'date_execution', 'race', 'county']\n",
    "        for row in rows:\n",
    "            item = PersonItem()\n",
    "            values = row.css('td::text').extract()\n",
    "            if len(values) > len(fields):\n",
    "                # Special cases: people #416 and #419\n",
    "                del values[1]\n",
    "            for field, value in zip(fields, values):\n",
    "                item[field] = value.strip()\n",
    "\n",
    "            info, last_stmt = row.css('td > a::attr(href)').extract()\n",
    "            no_info = info.endswith(('.jpg', 'no_info_available.html'))\n",
    "            no_stmt = last_stmt.endswith('no_last_statement.html')\n",
    "            if no_info:\n",
    "                item['gender'] = ''\n",
    "                info = False\n",
    "            if no_stmt:\n",
    "                item['last_statement'] = ''\n",
    "\n",
    "            if no_info and no_stmt:\n",
    "                yield item\n",
    "            elif no_stmt:\n",
    "                yield scrapy.Request(response.urljoin(info),\n",
    "                                     callback=self.parse_gender,\n",
    "                                     meta={'item': item})\n",
    "            else:\n",
    "                info_url = response.urljoin(info) if info else False\n",
    "                yield scrapy.Request(response.urljoin(last_stmt),\n",
    "                                     callback=self.parse_last_stmt,\n",
    "                                     meta={'item': item,\n",
    "                                           'info_url': info_url})\n",
    "\n",
    "    def parse_last_stmt(self, response):\n",
    "        item = response.meta['item']\n",
    "        info_url = response.meta['info_url']\n",
    "        ps = [p.strip() for p in response.css('p::text').extract()\n",
    "              if p.strip()]\n",
    "        item['last_statement'] = ps[-1]\n",
    "        if not info_url:\n",
    "            yield item\n",
    "            return\n",
    "        yield scrapy.Request(\n",
    "                info_url,\n",
    "                callback=self.parse_gender,\n",
    "                meta={'item': item},\n",
    "        )\n",
    "\n",
    "    def parse_gender(self, response):\n",
    "        item = response.meta['item']\n",
    "        rows = response.css('table tr')\n",
    "        item['gender'] = rows[10].css('td::text').extract()[-1].strip()\n",
    "        yield item\n",
    "        \n",
    "        \n",
    "# dataset = tablib.Dataset()\n",
    "# dataset.headers = [\"reference_link\", \"rss_link\"]\n",
    "\n",
    "# def add_item(item):    \n",
    "#    dataset.append([item.get(field) for fields in dataset.headers])\n",
    "\n",
    "# for item in items:\n",
    "#     add_item(item)\n",
    "\n",
    "# f.write(texas_death_items.csv)  \n",
    "\n",
    "\n",
    "#scrapy crawl <TexasDeathSpider> -o texas_death_items.csv -t csv\n",
    "        \n"
   ]
  },
  {
   "cell_type": "code",
   "execution_count": 18,
   "metadata": {
    "collapsed": false
   },
   "outputs": [],
   "source": [
    "people = pd.read_csv('statement_data.csv')"
   ]
  },
  {
   "cell_type": "code",
   "execution_count": 19,
   "metadata": {
    "collapsed": false
   },
   "outputs": [
    {
     "name": "stdout",
     "output_type": "stream",
     "text": [
      "<class 'pandas.core.frame.DataFrame'>\n",
      "RangeIndex: 538 entries, 0 to 537\n",
      "Data columns (total 11 columns):\n",
      "execution               538 non-null int64\n",
      "offender_information    538 non-null object\n",
      "last_statement          538 non-null object\n",
      "last_name               538 non-null object\n",
      "first_name              538 non-null object\n",
      "tdcj_number             538 non-null int64\n",
      "age                     538 non-null int64\n",
      "date                    538 non-null object\n",
      "race                    538 non-null object\n",
      "county                  538 non-null object\n",
      "statement_text          538 non-null object\n",
      "dtypes: int64(3), object(8)\n",
      "memory usage: 46.3+ KB\n"
     ]
    }
   ],
   "source": [
    "people.info()"
   ]
  },
  {
   "cell_type": "code",
   "execution_count": 20,
   "metadata": {
    "collapsed": false
   },
   "outputs": [
    {
     "data": {
      "text/html": [
       "<div>\n",
       "<table border=\"1\" class=\"dataframe\">\n",
       "  <thead>\n",
       "    <tr style=\"text-align: right;\">\n",
       "      <th></th>\n",
       "      <th>execution</th>\n",
       "      <th>offender_information</th>\n",
       "      <th>last_statement</th>\n",
       "      <th>last_name</th>\n",
       "      <th>first_name</th>\n",
       "      <th>tdcj_number</th>\n",
       "      <th>age</th>\n",
       "      <th>date</th>\n",
       "      <th>race</th>\n",
       "      <th>county</th>\n",
       "      <th>statement_text</th>\n",
       "    </tr>\n",
       "  </thead>\n",
       "  <tbody>\n",
       "    <tr>\n",
       "      <th>0</th>\n",
       "      <td>538</td>\n",
       "      <td>http://www.tdcj.state.tx.us/death_row/dr_info/...</td>\n",
       "      <td>http://www.tdcj.state.tx.us/death_row/dr_info/...</td>\n",
       "      <td>Fuller</td>\n",
       "      <td>Barney</td>\n",
       "      <td>999481</td>\n",
       "      <td>58</td>\n",
       "      <td>10/05/2016</td>\n",
       "      <td>White</td>\n",
       "      <td>Houston</td>\n",
       "      <td>I don't have anything to say, you can proceed ...</td>\n",
       "    </tr>\n",
       "    <tr>\n",
       "      <th>1</th>\n",
       "      <td>537</td>\n",
       "      <td>http://www.tdcj.state.tx.us/death_row/dr_info/...</td>\n",
       "      <td>http://www.tdcj.state.tx.us/death_row/dr_info/...</td>\n",
       "      <td>Vasquez</td>\n",
       "      <td>Pablo</td>\n",
       "      <td>999297</td>\n",
       "      <td>38</td>\n",
       "      <td>04/06/2016</td>\n",
       "      <td>Hispanic</td>\n",
       "      <td>Hidalgo</td>\n",
       "      <td>I just want to tell my family thank you, my mo...</td>\n",
       "    </tr>\n",
       "    <tr>\n",
       "      <th>2</th>\n",
       "      <td>536</td>\n",
       "      <td>http://www.tdcj.state.tx.us/death_row/dr_info/...</td>\n",
       "      <td>http://www.tdcj.state.tx.us/death_row/dr_info/...</td>\n",
       "      <td>Ward</td>\n",
       "      <td>Adam</td>\n",
       "      <td>999525</td>\n",
       "      <td>33</td>\n",
       "      <td>03/22/2016</td>\n",
       "      <td>White</td>\n",
       "      <td>Hunt</td>\n",
       "      <td>I would like to thank everyone that has showed...</td>\n",
       "    </tr>\n",
       "    <tr>\n",
       "      <th>3</th>\n",
       "      <td>535</td>\n",
       "      <td>http://www.tdcj.state.tx.us/death_row/dr_info/...</td>\n",
       "      <td>http://www.tdcj.state.tx.us/death_row/dr_info/...</td>\n",
       "      <td>Wesbrook</td>\n",
       "      <td>Coy</td>\n",
       "      <td>999281</td>\n",
       "      <td>58</td>\n",
       "      <td>03/09/2016</td>\n",
       "      <td>White</td>\n",
       "      <td>Harris</td>\n",
       "      <td>Yeah, first off, I want to say that I am sorry...</td>\n",
       "    </tr>\n",
       "    <tr>\n",
       "      <th>4</th>\n",
       "      <td>534</td>\n",
       "      <td>http://www.tdcj.state.tx.us/death_row/dr_info/...</td>\n",
       "      <td>http://www.tdcj.state.tx.us/death_row/dr_info/...</td>\n",
       "      <td>Garcia</td>\n",
       "      <td>Gustavo</td>\n",
       "      <td>999018</td>\n",
       "      <td>43</td>\n",
       "      <td>02/16/2016</td>\n",
       "      <td>Hispanic</td>\n",
       "      <td>Collin</td>\n",
       "      <td>To my family, to my mom, I love you. God bless...</td>\n",
       "    </tr>\n",
       "  </tbody>\n",
       "</table>\n",
       "</div>"
      ],
      "text/plain": [
       "   execution                               offender_information  \\\n",
       "0        538  http://www.tdcj.state.tx.us/death_row/dr_info/...   \n",
       "1        537  http://www.tdcj.state.tx.us/death_row/dr_info/...   \n",
       "2        536  http://www.tdcj.state.tx.us/death_row/dr_info/...   \n",
       "3        535  http://www.tdcj.state.tx.us/death_row/dr_info/...   \n",
       "4        534  http://www.tdcj.state.tx.us/death_row/dr_info/...   \n",
       "\n",
       "                                      last_statement last_name first_name  \\\n",
       "0  http://www.tdcj.state.tx.us/death_row/dr_info/...    Fuller     Barney   \n",
       "1  http://www.tdcj.state.tx.us/death_row/dr_info/...   Vasquez      Pablo   \n",
       "2  http://www.tdcj.state.tx.us/death_row/dr_info/...      Ward       Adam   \n",
       "3  http://www.tdcj.state.tx.us/death_row/dr_info/...  Wesbrook        Coy   \n",
       "4  http://www.tdcj.state.tx.us/death_row/dr_info/...    Garcia    Gustavo   \n",
       "\n",
       "   tdcj_number  age        date      race   county  \\\n",
       "0       999481   58  10/05/2016     White  Houston   \n",
       "1       999297   38  04/06/2016  Hispanic  Hidalgo   \n",
       "2       999525   33  03/22/2016     White     Hunt   \n",
       "3       999281   58  03/09/2016     White   Harris   \n",
       "4       999018   43  02/16/2016  Hispanic   Collin   \n",
       "\n",
       "                                      statement_text  \n",
       "0  I don't have anything to say, you can proceed ...  \n",
       "1  I just want to tell my family thank you, my mo...  \n",
       "2  I would like to thank everyone that has showed...  \n",
       "3  Yeah, first off, I want to say that I am sorry...  \n",
       "4  To my family, to my mom, I love you. God bless...  "
      ]
     },
     "execution_count": 20,
     "metadata": {},
     "output_type": "execute_result"
    }
   ],
   "source": [
    "people.head()"
   ]
  },
  {
   "cell_type": "code",
   "execution_count": 30,
   "metadata": {
    "collapsed": false
   },
   "outputs": [
    {
     "data": {
      "text/plain": [
       "10    536\n",
       "9       2\n",
       "Name: date, dtype: int64"
      ]
     },
     "execution_count": 30,
     "metadata": {},
     "output_type": "execute_result"
    }
   ],
   "source": [
    "people.date.map(len).value_counts()"
   ]
  },
  {
   "cell_type": "code",
   "execution_count": 31,
   "metadata": {
    "collapsed": false
   },
   "outputs": [
    {
     "data": {
      "text/plain": [
       "9      10/6/2015\n",
       "118    11/6/2008\n",
       "Name: date, dtype: object"
      ]
     },
     "execution_count": 31,
     "metadata": {},
     "output_type": "execute_result"
    }
   ],
   "source": [
    "people.date[people.date.map(len) == 9]"
   ]
  },
  {
   "cell_type": "code",
   "execution_count": 32,
   "metadata": {
    "collapsed": true
   },
   "outputs": [],
   "source": [
    "import datetime\n",
    "\n",
    "def _read_date(date):\n",
    "    return datetime.datetime.strptime(date, '%m/%d/%Y')\n",
    "\n",
    "people.date = people.date.map(_read_date)"
   ]
  },
  {
   "cell_type": "code",
   "execution_count": null,
   "metadata": {
    "collapsed": false
   },
   "outputs": [],
   "source": []
  },
  {
   "cell_type": "code",
   "execution_count": null,
   "metadata": {
    "collapsed": true
   },
   "outputs": [],
   "source": []
  }
 ],
 "metadata": {
  "anaconda-cloud": {},
  "kernelspec": {
   "display_name": "Python [python3env]",
   "language": "python",
   "name": "Python [python3env]"
  },
  "language_info": {
   "codemirror_mode": {
    "name": "ipython",
    "version": 3
   },
   "file_extension": ".py",
   "mimetype": "text/x-python",
   "name": "python",
   "nbconvert_exporter": "python",
   "pygments_lexer": "ipython3",
   "version": "3.5.2"
  }
 },
 "nbformat": 4,
 "nbformat_minor": 0
}
